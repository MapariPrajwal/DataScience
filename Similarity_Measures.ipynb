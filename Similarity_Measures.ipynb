{
  "nbformat": 4,
  "nbformat_minor": 0,
  "metadata": {
    "colab": {
      "provenance": [],
      "authorship_tag": "ABX9TyPsKSNaeMQKrKyYnbpJflvI",
      "include_colab_link": true
    },
    "kernelspec": {
      "name": "python3",
      "display_name": "Python 3"
    },
    "language_info": {
      "name": "python"
    }
  },
  "cells": [
    {
      "cell_type": "markdown",
      "metadata": {
        "id": "view-in-github",
        "colab_type": "text"
      },
      "source": [
        "<a href=\"https://colab.research.google.com/github/MapariPrajwal/DataScience/blob/main/Similarity_Measures.ipynb\" target=\"_parent\"><img src=\"https://colab.research.google.com/assets/colab-badge.svg\" alt=\"Open In Colab\"/></a>"
      ]
    },
    {
      "cell_type": "markdown",
      "source": [
        "### Euclidean Distance"
      ],
      "metadata": {
        "id": "yU9k4XiV3kga"
      }
    },
    {
      "cell_type": "code",
      "execution_count": 1,
      "metadata": {
        "colab": {
          "base_uri": "https://localhost:8080/"
        },
        "id": "x5w3l9XU1RzS",
        "outputId": "51175bf4-8682-41ca-d586-ecf9377fec0f"
      },
      "outputs": [
        {
          "output_type": "stream",
          "name": "stdout",
          "text": [
            "Euclidean Distance: 5.196152422706632\n"
          ]
        }
      ],
      "source": [
        "import numpy as np\n",
        "\n",
        "def euclidean_distance(x, y):\n",
        "    return np.sqrt(np.sum((np.array(x) - np.array(y))**2))\n",
        "\n",
        "# Example usage:\n",
        "x = [1, 2, 3]\n",
        "y = [4, 5, 6]\n",
        "print(\"Euclidean Distance:\", euclidean_distance(x, y))"
      ]
    },
    {
      "cell_type": "markdown",
      "source": [
        "### Mahhattan Distance"
      ],
      "metadata": {
        "id": "8OzuNVTW3tlF"
      }
    },
    {
      "cell_type": "code",
      "source": [
        "def manhattan_distance(x, y):\n",
        "    return np.sum(np.abs(np.array(x) - np.array(y)))\n",
        "\n",
        "# Example usage:\n",
        "print(\"Manhattan Distance:\", manhattan_distance(x, y))"
      ],
      "metadata": {
        "colab": {
          "base_uri": "https://localhost:8080/"
        },
        "id": "VSK5wbel1Zsq",
        "outputId": "fc85bac8-13aa-4c8f-d1bf-8b658e8184d7"
      },
      "execution_count": 2,
      "outputs": [
        {
          "output_type": "stream",
          "name": "stdout",
          "text": [
            "Manhattan Distance: 9\n"
          ]
        }
      ]
    },
    {
      "cell_type": "markdown",
      "source": [
        "### Minkowski Distance"
      ],
      "metadata": {
        "id": "eaFo1AIP31iG"
      }
    },
    {
      "cell_type": "code",
      "source": [
        "def minkowski_distance(x, y, p):\n",
        "    return np.power(np.sum(np.abs(np.array(x) - np.array(y))**p), 1/p)\n",
        "\n",
        "# Example usage:\n",
        "p_value = 3\n",
        "print(\"Minkowski Distance:\", minkowski_distance(x, y, p_value))"
      ],
      "metadata": {
        "colab": {
          "base_uri": "https://localhost:8080/"
        },
        "id": "cYVZxHC7100t",
        "outputId": "7622c397-adc6-4842-a586-f86d387afc8b"
      },
      "execution_count": 3,
      "outputs": [
        {
          "output_type": "stream",
          "name": "stdout",
          "text": [
            "Minkowski Distance: 4.3267487109222245\n"
          ]
        }
      ]
    },
    {
      "cell_type": "markdown",
      "source": [
        "### Supremum Distance"
      ],
      "metadata": {
        "id": "Dt5rcdPB38CV"
      }
    },
    {
      "cell_type": "code",
      "source": [
        "def supremum_distance(x, y):\n",
        "    return np.max(np.abs(np.array(x) - np.array(y)))\n",
        "\n",
        "# Example usage:\n",
        "print(\"Supremum Distance:\", supremum_distance(x, y))"
      ],
      "metadata": {
        "colab": {
          "base_uri": "https://localhost:8080/"
        },
        "id": "k9n9srXZ1--M",
        "outputId": "10a475c9-632f-406d-ffef-e5d90a25146a"
      },
      "execution_count": 4,
      "outputs": [
        {
          "output_type": "stream",
          "name": "stdout",
          "text": [
            "Supremum Distance: 3\n"
          ]
        }
      ]
    },
    {
      "cell_type": "markdown",
      "source": [
        "### **Coefficients**"
      ],
      "metadata": {
        "id": "GiOX8mTa4TWa"
      }
    },
    {
      "cell_type": "markdown",
      "source": [
        "### Simple Matching Coefficient"
      ],
      "metadata": {
        "id": "gjuRU9cx4Ada"
      }
    },
    {
      "cell_type": "code",
      "source": [
        "def simple_matching_coefficient(a, b):\n",
        "    common_elements = sum(ai == bi for ai, bi in zip(a, b))\n",
        "    return common_elements / len(a)\n",
        "\n",
        "# Example usage:\n",
        "binary_a = [0, 1, 1, 0]\n",
        "binary_b = [1, 1, 1, 0]\n",
        "print(\"Simple Matching Coefficient:\", simple_matching_coefficient(binary_a, binary_b))"
      ],
      "metadata": {
        "colab": {
          "base_uri": "https://localhost:8080/"
        },
        "id": "JsNY6JXY10q4",
        "outputId": "75c396c4-adaf-4329-a3a0-183f7bcd8fec"
      },
      "execution_count": 5,
      "outputs": [
        {
          "output_type": "stream",
          "name": "stdout",
          "text": [
            "Simple Matching Coefficient: 0.75\n"
          ]
        }
      ]
    },
    {
      "cell_type": "markdown",
      "source": [
        "### Jaccard Coefficient"
      ],
      "metadata": {
        "id": "y3cxEoDd4I_k"
      }
    },
    {
      "cell_type": "code",
      "source": [
        "def jaccard_coefficient(a, b):\n",
        "    intersection = sum(ai and bi for ai, bi in zip(a, b))\n",
        "    union = sum(ai or bi for ai, bi in zip(a, b))\n",
        "    return intersection / union\n",
        "\n",
        "# Example usage:\n",
        "print(\"Jaccard Coefficient:\", jaccard_coefficient(binary_a, binary_b))\n"
      ],
      "metadata": {
        "colab": {
          "base_uri": "https://localhost:8080/"
        },
        "id": "Fq735f1C10Zi",
        "outputId": "89d379e3-98ee-493b-9017-0451838c8a14"
      },
      "execution_count": 6,
      "outputs": [
        {
          "output_type": "stream",
          "name": "stdout",
          "text": [
            "Jaccard Coefficient: 0.6666666666666666\n"
          ]
        }
      ]
    },
    {
      "cell_type": "markdown",
      "source": [
        "### **Similarity by Distances**\n"
      ],
      "metadata": {
        "id": "Ldb37lwF4leY"
      }
    },
    {
      "cell_type": "markdown",
      "source": [
        "### Cosine Similarity"
      ],
      "metadata": {
        "id": "R4FP3Ox64ypt"
      }
    },
    {
      "cell_type": "code",
      "source": [
        "from sklearn.feature_extraction.text import CountVectorizer\n",
        "from sklearn.metrics.pairwise import cosine_similarity\n",
        "\n",
        "def cosine_similarity_text(doc1, doc2):\n",
        "    vectorizer = CountVectorizer().fit_transform([doc1, doc2])\n",
        "    vectors = vectorizer.toarray()\n",
        "    return cosine_similarity([vectors[0]], [vectors[1]])[0, 0]\n",
        "\n",
        "# Example usage:\n",
        "text1 = \"This is a sample text.\"\n",
        "text2 = \"Sample text for cosine similarity.\"\n",
        "print(\"Cosine Similarity:\", cosine_similarity_text(text1, text2))"
      ],
      "metadata": {
        "colab": {
          "base_uri": "https://localhost:8080/"
        },
        "id": "FiPDzYEx2DAI",
        "outputId": "fb7f66dd-da8f-4015-ef62-1bac6cdb407a"
      },
      "execution_count": 7,
      "outputs": [
        {
          "output_type": "stream",
          "name": "stdout",
          "text": [
            "Cosine Similarity: 0.4472135954999579\n"
          ]
        }
      ]
    },
    {
      "cell_type": "markdown",
      "source": [
        "### Jaro Distance"
      ],
      "metadata": {
        "id": "JDb6zfGS5Mwx"
      }
    },
    {
      "cell_type": "code",
      "source": [
        "!pip install jellyfish"
      ],
      "metadata": {
        "colab": {
          "base_uri": "https://localhost:8080/"
        },
        "id": "dSLAYSUr2oc-",
        "outputId": "1b376e80-e18f-48b6-ef4e-e39169e490a3"
      },
      "execution_count": 10,
      "outputs": [
        {
          "output_type": "stream",
          "name": "stdout",
          "text": [
            "Collecting jellyfish\n",
            "  Downloading jellyfish-1.0.3-cp310-cp310-manylinux_2_17_x86_64.manylinux2014_x86_64.whl (1.2 MB)\n",
            "\u001b[2K     \u001b[90m━━━━━━━━━━━━━━━━━━━━━━━━━━━━━━━━━━━━━━━━\u001b[0m \u001b[32m1.2/1.2 MB\u001b[0m \u001b[31m11.4 MB/s\u001b[0m eta \u001b[36m0:00:00\u001b[0m\n",
            "\u001b[?25hInstalling collected packages: jellyfish\n",
            "Successfully installed jellyfish-1.0.3\n"
          ]
        }
      ]
    },
    {
      "cell_type": "code",
      "source": [
        "from jellyfish import jaro_distance\n",
        "def calculate_jaro_distance(str1, str2):\n",
        "    return jaro_distance(str1, str2)\n",
        "\n",
        "# Example usage:\n",
        "string1=\"Hello\"\n",
        "string2=\"Prajwal\"\n",
        "print(\"Jaro Distance:\", calculate_jaro_distance(string1, string2))"
      ],
      "metadata": {
        "colab": {
          "base_uri": "https://localhost:8080/",
          "height": 401
        },
        "id": "OLeerYyz2Czd",
        "outputId": "d9b5b417-f3c8-4190-e098-d57cc1878bf6"
      },
      "execution_count": 13,
      "outputs": [
        {
          "output_type": "error",
          "ename": "ImportError",
          "evalue": "cannot import name 'jaro_distance' from 'jellyfish' (/usr/local/lib/python3.10/dist-packages/jellyfish/__init__.py)",
          "traceback": [
            "\u001b[0;31m---------------------------------------------------------------------------\u001b[0m",
            "\u001b[0;31mImportError\u001b[0m                               Traceback (most recent call last)",
            "\u001b[0;32m<ipython-input-13-0bc09680ced7>\u001b[0m in \u001b[0;36m<cell line: 1>\u001b[0;34m()\u001b[0m\n\u001b[0;32m----> 1\u001b[0;31m \u001b[0;32mfrom\u001b[0m \u001b[0mjellyfish\u001b[0m \u001b[0;32mimport\u001b[0m \u001b[0mjaro_distance\u001b[0m\u001b[0;34m\u001b[0m\u001b[0;34m\u001b[0m\u001b[0m\n\u001b[0m\u001b[1;32m      2\u001b[0m \u001b[0;32mdef\u001b[0m \u001b[0mcalculate_jaro_distance\u001b[0m\u001b[0;34m(\u001b[0m\u001b[0mstr1\u001b[0m\u001b[0;34m,\u001b[0m \u001b[0mstr2\u001b[0m\u001b[0;34m)\u001b[0m\u001b[0;34m:\u001b[0m\u001b[0;34m\u001b[0m\u001b[0;34m\u001b[0m\u001b[0m\n\u001b[1;32m      3\u001b[0m     \u001b[0;32mreturn\u001b[0m \u001b[0mjaro_distance\u001b[0m\u001b[0;34m(\u001b[0m\u001b[0mstr1\u001b[0m\u001b[0;34m,\u001b[0m \u001b[0mstr2\u001b[0m\u001b[0;34m)\u001b[0m\u001b[0;34m\u001b[0m\u001b[0;34m\u001b[0m\u001b[0m\n\u001b[1;32m      4\u001b[0m \u001b[0;34m\u001b[0m\u001b[0m\n\u001b[1;32m      5\u001b[0m \u001b[0;31m# Example usage:\u001b[0m\u001b[0;34m\u001b[0m\u001b[0;34m\u001b[0m\u001b[0m\n",
            "\u001b[0;31mImportError\u001b[0m: cannot import name 'jaro_distance' from 'jellyfish' (/usr/local/lib/python3.10/dist-packages/jellyfish/__init__.py)",
            "",
            "\u001b[0;31m---------------------------------------------------------------------------\u001b[0;32m\nNOTE: If your import is failing due to a missing package, you can\nmanually install dependencies using either !pip or !apt.\n\nTo view examples of installing some common dependencies, click the\n\"Open Examples\" button below.\n\u001b[0;31m---------------------------------------------------------------------------\u001b[0m\n"
          ],
          "errorDetails": {
            "actions": [
              {
                "action": "open_url",
                "actionText": "Open Examples",
                "url": "/notebooks/snippets/importing_libraries.ipynb"
              }
            ]
          }
        }
      ]
    },
    {
      "cell_type": "markdown",
      "source": [
        "### N Gram Distance"
      ],
      "metadata": {
        "id": "xpOopZBL5S7T"
      }
    },
    {
      "cell_type": "code",
      "source": [
        "from nltk.util import ngrams\n",
        "\n",
        "def ngram_distance(str1, str2, n):\n",
        "    ngrams_str1 = set(ngrams(str1, n))\n",
        "    ngrams_str2 = set(ngrams(str2, n))\n",
        "    intersection = len(ngrams_str1.intersection(ngrams_str2))\n",
        "    union = len(ngrams_str1.union(ngrams_str2))\n",
        "    return 1 - intersection / union  # Convert to distance\n",
        "\n",
        "# Example usage:\n",
        "n_value = 2\n",
        "string1=\"Hey\"\n",
        "string2=\"Sahil\"\n",
        "print(\"N-gram Distance:\", ngram_distance(string1, string2, n_value))"
      ],
      "metadata": {
        "colab": {
          "base_uri": "https://localhost:8080/"
        },
        "id": "Lf3Nv2DK2MXc",
        "outputId": "d74d53c1-ebbc-420a-c0e6-d03a87295b2d"
      },
      "execution_count": 17,
      "outputs": [
        {
          "output_type": "stream",
          "name": "stdout",
          "text": [
            "N-gram Distance: 1.0\n"
          ]
        }
      ]
    },
    {
      "cell_type": "code",
      "source": [],
      "metadata": {
        "id": "SJajLn-N2beI"
      },
      "execution_count": null,
      "outputs": []
    }
  ]
}