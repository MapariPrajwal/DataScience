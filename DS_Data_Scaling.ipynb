{
  "nbformat": 4,
  "nbformat_minor": 0,
  "metadata": {
    "colab": {
      "provenance": [],
      "authorship_tag": "ABX9TyNSODdF657haGmqgJLvSdhs",
      "include_colab_link": true
    },
    "kernelspec": {
      "name": "python3",
      "display_name": "Python 3"
    },
    "language_info": {
      "name": "python"
    }
  },
  "cells": [
    {
      "cell_type": "markdown",
      "metadata": {
        "id": "view-in-github",
        "colab_type": "text"
      },
      "source": [
        "<a href=\"https://colab.research.google.com/github/MapariPrajwal/DataScience/blob/main/DS_Data_Scaling.ipynb\" target=\"_parent\"><img src=\"https://colab.research.google.com/assets/colab-badge.svg\" alt=\"Open In Colab\"/></a>"
      ]
    },
    {
      "cell_type": "code",
      "source": [
        "import pandas as pd\n",
        "import matplotlib.pyplot as plt\n",
        "from sklearn.preprocessing import MaxAbsScaler, MinMaxScaler, StandardScaler"
      ],
      "metadata": {
        "id": "CQDvMQMTIpbi"
      },
      "execution_count": null,
      "outputs": []
    },
    {
      "cell_type": "code",
      "source": [
        "data = {'value': [10, 20, 30, 40, 50]}\n",
        "df = pd.DataFrame(data)"
      ],
      "metadata": {
        "id": "5-PuqnLIIr0_"
      },
      "execution_count": null,
      "outputs": []
    },
    {
      "cell_type": "code",
      "source": [
        "max_abs_scaler = MaxAbsScaler()\n",
        "max_abs_scaled = max_abs_scaler.fit_transform(df[['value']])\n",
        "df['max_abs_scaled'] = max_abs_scaled"
      ],
      "metadata": {
        "id": "i3mEO77yIt5n"
      },
      "execution_count": null,
      "outputs": []
    },
    {
      "cell_type": "code",
      "source": [
        "min_max_scaler = MinMaxScaler()\n",
        "min_max_scaled = min_max_scaler.fit_transform(df[['value']])\n",
        "df['min_max_scaled'] = min_max_scaled"
      ],
      "metadata": {
        "id": "JuetHisdIuo3"
      },
      "execution_count": null,
      "outputs": []
    },
    {
      "cell_type": "code",
      "source": [
        "z_score_scaler = StandardScaler()\n",
        "z_score_scaled = z_score_scaler.fit_transform(df[['value']])\n",
        "df['z_score_scaled'] = z_score_scaled"
      ],
      "metadata": {
        "id": "DcMcHEzWIw2H"
      },
      "execution_count": null,
      "outputs": []
    },
    {
      "cell_type": "code",
      "execution_count": null,
      "metadata": {
        "id": "DFJPaP8zIfAJ"
      },
      "outputs": [],
      "source": [
        "plt.figure(figsize=(10, 6))\n",
        "plt.plot(df.index, df['value'], label='Original', marker='o')\n",
        "plt.plot(df.index, df['max_abs_scaled'], label='Max Abs Scaled', linestyle='--', marker='x')\n",
        "plt.plot(df.index, df['min_max_scaled'], label='Min-Max Scaled', linestyle='-.', marker='^')\n",
        "plt.plot(df.index, df['z_score_scaled'], label='Z-Score Scaled', linestyle=':', marker='s')\n",
        "plt.title('Normalized Data')\n",
        "plt.xlabel('Index')\n",
        "plt.ylabel('Value')\n",
        "plt.legend()\n",
        "plt.grid(True)\n",
        "plt.show()"
      ]
    }
  ]
}